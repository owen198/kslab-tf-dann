{
 "cells": [
  {
   "cell_type": "code",
   "execution_count": 1,
   "metadata": {},
   "outputs": [],
   "source": [
    "%matplotlib inline\n",
    "\n",
    "import pandas as pd\n",
    "#import pandas_ml as pdml\n",
    "\n",
    "import matplotlib.pyplot as plt\n",
    "import tensorflow as tf\n",
    "import numpy as np\n",
    "import cPickle as pkl\n",
    "from sklearn.datasets import make_moons, make_blobs\n",
    "from sklearn.decomposition import PCA\n",
    "from sklearn.manifold import TSNE\n",
    "from IPython.display import SVG\n",
    "from imblearn.over_sampling import ADASYN, SMOTE, RandomOverSampler\n",
    "from collections import Counter\n",
    "\n",
    "from flip_gradient import flip_gradient\n",
    "from utils import *"
   ]
  },
  {
   "cell_type": "code",
   "execution_count": 2,
   "metadata": {
    "scrolled": false
   },
   "outputs": [],
   "source": [
    "all_features_by_week = pd.read_csv('ncu_data_week_1-18(3a).csv', sep=',')\n",
    "all_features_by_week.drop(['username'], axis=1, inplace=True)\n",
    "\n",
    "# resample from 59 to 128\n",
    "#for i in range(128-59):\n",
    "#    all_features_by_week = all_features_by_week.append(all_features_by_week.sample(1))\n",
    "\n",
    "\n",
    "feature_header = list(all_features_by_week)[0 : 19]\n",
    "cluster_header = 'cluster'\n",
    "_Xt = all_features_by_week[feature_header].values\n",
    "_yt = all_features_by_week[cluster_header].values\n",
    "#all_features_by_week.describe()\n",
    "\n",
    "## oversampling\n",
    "ada = ADASYN()\n",
    "sampled_Xt, sampled_yt = ada.fit_sample(_Xt, _yt)\n",
    "#Counter(sampled_Xt)\n",
    "\n",
    "dataframe_Xt = pd.DataFrame(data=sampled_Xt, columns=feature_header)\n",
    "dataframe_yt = pd.DataFrame(data=sampled_yt, columns=['cluster'])\n",
    "dataframe_target = pd.concat([dataframe_Xt, dataframe_yt], axis=1)\n",
    "\n",
    "for i in range(198-37-38):\n",
    "    dataframe_target = dataframe_target.append(dataframe_target.sample(1))\n",
    "    \n",
    "Xt = dataframe_target[feature_header].values\n",
    "yt = dataframe_target[cluster_header].values"
   ]
  },
  {
   "cell_type": "code",
   "execution_count": 3,
   "metadata": {
    "scrolled": false
   },
   "outputs": [
    {
     "data": {
      "text/plain": [
       "Counter({0: 100, 1: 98})"
      ]
     },
     "execution_count": 3,
     "metadata": {},
     "output_type": "execute_result"
    }
   ],
   "source": [
    "#all_features_by_week = pd.read_csv('ncu_data_week_chkb_1-6(59).csv', sep=',')\n",
    "all_features_by_week = pd.read_csv('ncu_data_week_1-6.csv', sep=',')\n",
    "all_features_by_week.drop(['username'], axis=1, inplace=True)\n",
    "\n",
    "feature_header = list(all_features_by_week)[0 : 19]\n",
    "cluster_header = 'cluster'\n",
    "_Xs = all_features_by_week[feature_header].values\n",
    "_ys = all_features_by_week[cluster_header].values\n",
    "#all_features_by_week.describe()\n",
    "\n",
    "Xs, ys = ada.fit_sample(_Xs, _ys)\n",
    "Counter(ys)"
   ]
  },
  {
   "cell_type": "code",
   "execution_count": 4,
   "metadata": {
    "scrolled": false
   },
   "outputs": [],
   "source": [
    "\n",
    "#dataframe_target = pd.concat([pd.DataFrame(data=_Xt), pd.DataFrame(data=_yt)], axis=1)\n",
    "#dataframe_target['type'] = 0 # target\n",
    "#dataframe_source = pd.concat([pd.DataFrame(data=_Xs), pd.DataFrame(data=_ys)], axis=1)\n",
    "#dataframe_source['type'] = 1 # source\n",
    "#dataframe_sample = pd.concat([dataframe_target, dataframe_source], ignore_index=True)\n",
    "\n",
    "## oversampling\n",
    "#sample_x = dataframe_sample[list(dataframe_sample)[0:-1]].values\n",
    "#sample_y = dataframe_sample['type'].values\n",
    "#sampled_x, sampled_y = ada.fit_sample(sample_x, sample_y)\n",
    "\n",
    "## divided into target and source\n",
    "#sampled_target = dataframe_sampled[dataframe_sampled.iloc[:,-1] == 0]\n",
    "#sampled_source = dataframe_sampled[dataframe_sampled.iloc[:,-1] == 1]\n",
    "\n",
    "#feature_header = list(sampled_target)[0 : 19]\n",
    "#cluster_header = 'cluster'\n",
    "#Xt = sampled_target[feature_header].values\n",
    "#yt = sampled_target.iloc[:,-2].values"
   ]
  },
  {
   "cell_type": "code",
   "execution_count": 5,
   "metadata": {
    "scrolled": false
   },
   "outputs": [],
   "source": [
    "# create testing data set\n",
    "num_test = 100\n",
    "combined_test_data = np.concatenate([Xs[:num_test], Xt[:num_test]])\n",
    "combined_test_labels = np.concatenate([ys[:num_test], yt[:num_test]])\n",
    "combined_test_domain = np.concatenate([np.tile([1., 0.], [num_test, 1]),\n",
    "        np.tile([0., 1.], [num_test, 1])])"
   ]
  },
  {
   "cell_type": "code",
   "execution_count": 6,
   "metadata": {},
   "outputs": [],
   "source": [
    "#batch_size = 16\n",
    "batch_size = 49\n",
    "\n",
    "def build_model(shallow_domain_classifier=True):\n",
    "    X = tf.placeholder(tf.float32, [None, 19], name='X') # Input data\n",
    "    Y_index = tf.placeholder(tf.int32, [None], name='Y_index')  # Class index\n",
    "    D_index = tf.placeholder(tf.int32, [None], name='D_index')  # Domain index\n",
    "    train = tf.placeholder(tf.bool, [], name='train')       # Switch for routing data to class predictor\n",
    "    l = tf.placeholder(tf.float32, [], name='l')        # Gradient reversal scaler\n",
    "    \n",
    "    Y = tf.one_hot(Y_index, 2)\n",
    "    D = tf.one_hot(D_index, 2)\n",
    "\n",
    "    \n",
    "    # Feature extractor - single layer\n",
    "    W0 = weight_variable([19, 38])\n",
    "    b0 = bias_variable([38])\n",
    "    F = tf.nn.relu(tf.matmul(X, W0) + b0, name='feature')\n",
    "    \n",
    "    \n",
    "    \n",
    "    # Label predictor - single layer\n",
    "    f = tf.cond(train, lambda: tf.slice(F, [0, 0], [batch_size / 2, -1]), lambda: F)\n",
    "    y = tf.cond(train, lambda: tf.slice(Y, [0, 0], [batch_size / 2, -1]), lambda: Y)\n",
    "\n",
    "    W1 = weight_variable([38, 2])\n",
    "    b1 = bias_variable([2])\n",
    "    \n",
    "    p_logit = tf.matmul(f, W1) + b1\n",
    "    p = tf.nn.softmax(p_logit)\n",
    "    p_loss = tf.nn.softmax_cross_entropy_with_logits(logits=p_logit, labels=y)\n",
    "\n",
    "    \n",
    "    \n",
    "    # Domain predictor - shallow\n",
    "    f_ = flip_gradient(F, l)\n",
    "\n",
    "    if shallow_domain_classifier:\n",
    "        W2 = weight_variable([38, 2])\n",
    "        b2 = bias_variable([2])\n",
    "        d_logit = tf.matmul(f_, W2) + b2\n",
    "        d = tf.nn.softmax(d_logit)\n",
    "        d_loss = tf.nn.softmax_cross_entropy_with_logits(logits=d_logit, labels=D)\n",
    "\n",
    "    else:\n",
    "        W2 = weight_variable([38, 8])\n",
    "        b2 = bias_variable([8])\n",
    "        h2 = tf.nn.relu(tf.matmul(f_, W2) + b2)\n",
    "\n",
    "        W3 = weight_variable([8, 2])\n",
    "        b3 = bias_variable([2])\n",
    "        d_logit = tf.matmul(h2, W3) + b3\n",
    "        d = tf.nn.softmax(d_logit)\n",
    "        d_loss = tf.nn.softmax_cross_entropy_with_logits(logits=d_logit, labels=D)\n",
    "\n",
    "\n",
    "        \n",
    "        \n",
    "    # Optimization\n",
    "    pred_loss = tf.reduce_sum(p_loss, name='pred_loss')\n",
    "    domain_loss = tf.reduce_sum(d_loss, name='domain_loss')\n",
    "    total_loss = tf.add(pred_loss, domain_loss, name='total_loss')\n",
    "\n",
    "    pred_train_op = tf.train.AdamOptimizer(0.01).minimize(pred_loss, name='pred_train_op')\n",
    "    dann_train_op = tf.train.AdamOptimizer(0.01).minimize(total_loss, name='dann_train_op')\n",
    "\n",
    "    \n",
    "    # Evaluation\n",
    "    p_acc = tf.reduce_mean(tf.cast(tf.equal(tf.argmax(y, 1), tf.argmax(p, 1)), tf.float32), name='p_acc')\n",
    "    d_acc = tf.reduce_mean(tf.cast(tf.equal(tf.argmax(D, 1), tf.argmax(d, 1)), tf.float32), name='d_acc')"
   ]
  },
  {
   "cell_type": "code",
   "execution_count": 7,
   "metadata": {},
   "outputs": [],
   "source": [
    "\n",
    "build_model()\n",
    "\n",
    "sess = tf.InteractiveSession()\n",
    "\n",
    "def train_and_evaluate(sess, \n",
    "                       train_op_name, \n",
    "                       train_loss_name, \n",
    "                       model='dann', \n",
    "                       grad_scale=None, \n",
    "                       num_batches=10000, \n",
    "                       verbose=True):\n",
    "    \n",
    "    # Create batch builders\n",
    "    S_batches = batch_generator([Xs, ys], batch_size / 2)\n",
    "    T_batches = batch_generator([Xt, yt], batch_size / 2)\n",
    "    \n",
    "    # Get output tensors and train op\n",
    "    d_acc = sess.graph.get_tensor_by_name('d_acc:0')\n",
    "    p_acc = sess.graph.get_tensor_by_name('p_acc:0')\n",
    "    train_loss = sess.graph.get_tensor_by_name(train_loss_name + ':0')\n",
    "    train_op = sess.graph.get_operation_by_name(train_op_name)\n",
    "    \n",
    "    \n",
    "    writer = tf.summary.FileWriter('/notebooks/tf-dann/model-test', graph = sess.graph)\n",
    "    sess.run(tf.global_variables_initializer())\n",
    "    for i in range(num_batches):\n",
    "\n",
    "        # If no grad_scale, use a schedule\n",
    "        if grad_scale is None:\n",
    "            p = float(i) / num_batches\n",
    "            lp = 2. / (1. + np.exp(-10. * p)) - 1\n",
    "        else:\n",
    "            lp = grad_scale\n",
    "\n",
    "        if model == 'dann':\n",
    "            X0, y0 = S_batches.next()\n",
    "            X1, y1 = T_batches.next()\n",
    "\n",
    "            Xb = np.vstack([X0, X1])\n",
    "            yb = np.hstack([y0, y1])\n",
    "            D_labels = np.hstack([np.zeros(batch_size / 2, dtype=np.int32),\n",
    "                                  np.ones(batch_size / 2, dtype=np.int32)])\n",
    "\n",
    "            _, loss, da, pa = sess.run([train_op, train_loss, d_acc, p_acc],\n",
    "                                       feed_dict={'X:0': Xb, \n",
    "                                                  'Y_index:0': yb, \n",
    "                                                  'D_index:0': D_labels,\n",
    "                                                  'train:0': True, \n",
    "                                                  'l:0': lp})\n",
    "\n",
    "            if verbose and i % (num_batches / 5) == 0:\n",
    "                print 'loss: %f, domain accuracy: %f, class accuracy: %f' % (loss, da, pa)\n",
    "                \n",
    "        elif model == 'source':\n",
    "            X0, y0 = S_batches.next()\n",
    "            Xb = np.vstack([X0])\n",
    "            yb = np.hstack([y0])\n",
    "            D_labels = np.hstack([np.zeros(batch_size / 4, dtype=np.int32),\n",
    "                                  np.ones(batch_size / 4, dtype=np.int32)])\n",
    "            \n",
    "            _, loss, da, pa = sess.run([train_op, train_loss, d_acc, p_acc],\n",
    "                                       feed_dict={'X:0': Xb, \n",
    "                                                  'Y_index:0': yb, \n",
    "                                                  'D_index:0': D_labels,\n",
    "                                                  'train:0': True, \n",
    "                                                  'l:0': lp})\n",
    "            if verbose and i % (num_batches / 5) == 0:\n",
    "                print 'loss: %f, domain accuracy: %f, class accuracy: %f' % (loss, da, pa)\n",
    "\n",
    "        elif model == 'target':\n",
    "            X0, y0 = T_batches.next()\n",
    "            Xb = np.vstack([X0])\n",
    "            yb = np.hstack([y0])\n",
    "            D_labels = np.hstack([np.zeros(batch_size / 4, dtype=np.int32),\n",
    "                                  np.ones(batch_size / 4, dtype=np.int32)])\n",
    "            \n",
    "            _, loss, da, pa = sess.run([train_op, train_loss, d_acc, p_acc],\n",
    "                                       feed_dict={'X:0': Xb, \n",
    "                                                  'Y_index:0': yb, \n",
    "                                                  'D_index:0': D_labels,\n",
    "                                                  'train:0': True, \n",
    "                                                  'l:0': lp})\n",
    "            if verbose and i % (num_batches / 5) == 0:\n",
    "                print 'loss: %f, domain accuracy: %f, class accuracy: %f' % (loss, da, pa)\n",
    "                \n",
    "                \n",
    "    # Get final accuracies on whole dataset\n",
    "    das, acc_source_classification = sess.run([d_acc, p_acc], feed_dict={'X:0': Xs, \n",
    "                                                   'Y_index:0': ys, \n",
    "                                                   'D_index:0': np.zeros(Xs.shape[0], dtype=np.int32), \n",
    "                                                   'train:0': False, \n",
    "                                                   'l:0': 1.0})\n",
    "    dat, acc_target_classification = sess.run([d_acc, p_acc], feed_dict={'X:0': Xt, \n",
    "                                                   'Y_index:0': yt,\n",
    "                                                   'D_index:0': np.ones(Xt.shape[0], dtype=np.int32), \n",
    "                                                   'train:0': False, \n",
    "                                                   'l:0': 1.0})\n",
    "    dax, acc_domain_classification = sess.run([d_acc, p_acc], feed_dict={'X:0': combined_test_data, \n",
    "                                                   'Y_index:0': combined_test_domain.argmax(1),\n",
    "                                                   'D_index:0': np.ones(combined_test_data.shape[0], dtype=np.int32), \n",
    "                                                   'train:0': False, \n",
    "                                                   'l:0': 1.0})\n",
    "    \n",
    "    result_feature_extraction = sess.run('feature:0', feed_dict={'X:0': combined_test_data})\n",
    "    \n",
    "    return acc_source_classification, acc_target_classification, acc_domain_classification, result_feature_extraction"
   ]
  },
  {
   "cell_type": "markdown",
   "metadata": {},
   "source": [
    "\n",
    "Source only training\n",
    "+ Source (MNIST) accuracy: 0.9847\n",
    "+ Target (MNIST-M) accuracy: 0.5463\n",
    "\n",
    "Domain adaptation training\n",
    "+ Source (MNIST) accuracy: 0.9779\n",
    "+ Target (MNIST-M) accuracy: 0.7141\n",
    "+ Domain accuracy: 0.693"
   ]
  },
  {
   "cell_type": "code",
   "execution_count": 11,
   "metadata": {
    "scrolled": false
   },
   "outputs": [
    {
     "name": "stdout",
     "output_type": "stream",
     "text": [
      "\n",
      "Source only training\n",
      "Source (Senior) accuracy: (Apply source model to source) 1.0\n",
      "Target (College) accuracy: (Apply source model to target) 0.434343\n",
      "\n",
      "Target only training\n",
      "Source (Senior) accuracy: (Apply target model to source) 0.580808\n",
      "Target (College) accuracy: (Apply target model to target) 0.843434\n",
      "\n",
      "Domain adaptation training\n",
      "Source (Senior) accuracy (Apply domain model to source): 1.0\n",
      "Target (College) accuracy (Apply domain model to target): 0.732323\n",
      "\n",
      "Domain classification accuracy: 0.635\n"
     ]
    }
   ],
   "source": [
    "num_batches=10000\n",
    "grad_scale=0.2\n",
    "verbose=False\n",
    "\n",
    "print '\\nSource only training'\n",
    "source_acc, target_acc, _, source_only_emb = train_and_evaluate(sess, \n",
    "                                               'pred_train_op', \n",
    "                                               'pred_loss', \n",
    "                                               verbose=verbose, \n",
    "                                               model='source',\n",
    "                                               grad_scale=grad_scale,\n",
    "                                               num_batches=num_batches)\n",
    "print 'Source (Senior) accuracy: (Apply source model to source)', source_acc\n",
    "print 'Target (College) accuracy: (Apply source model to target)', target_acc\n",
    "\n",
    "\n",
    "print '\\nTarget only training'\n",
    "source_acc, target_acc, _, target_only_emb = train_and_evaluate(sess, \n",
    "                                               'pred_train_op', \n",
    "                                               'pred_loss', \n",
    "                                               verbose=verbose, \n",
    "                                               model='target',\n",
    "                                               grad_scale=grad_scale,\n",
    "                                               num_batches=num_batches)\n",
    "print 'Source (Senior) accuracy: (Apply target model to source)', source_acc\n",
    "print 'Target (College) accuracy: (Apply target model to target)', target_acc\n",
    "\n",
    "print '\\nDomain adaptation training'\n",
    "source_acc, target_acc, d_acc, dann_emb = train_and_evaluate(sess, \n",
    "                                                   'dann_train_op', \n",
    "                                                   'total_loss', \n",
    "                                                   verbose=verbose, \n",
    "                                                   model='dann',\n",
    "                                                   grad_scale=grad_scale,\n",
    "                                                   num_batches=num_batches)\n",
    "\n",
    "print 'Source (Senior) accuracy (Apply domain model to source):', source_acc\n",
    "print 'Target (College) accuracy (Apply domain model to target):', target_acc\n",
    "\n",
    "print '\\nDomain classification accuracy:', d_acc"
   ]
  },
  {
   "cell_type": "code",
   "execution_count": 12,
   "metadata": {
    "scrolled": false
   },
   "outputs": [
    {
     "data": {
      "image/png": "[encoded data removed]",
      "text/plain": [
       "<matplotlib.figure.Figure at 0x7fd15795d250>"
      ]
     },
     "metadata": {},
     "output_type": "display_data"
    },
    {
     "data": {
      "image/png": "[encoded data removed]",
      "text/plain": [
       "<matplotlib.figure.Figure at 0x7fd15756b290>"
      ]
     },
     "metadata": {},
     "output_type": "display_data"
    },
    {
     "data": {
      "image/png": "[encoded data removed]",
      "text/plain": [
       "<matplotlib.figure.Figure at 0x7fd15c074510>"
      ]
     },
     "metadata": {},
     "output_type": "display_data"
    },
    {
     "data": {
      "image/png": "[encoded data removed]",
      "text/plain": [
       "<matplotlib.figure.Figure at 0x7fd154394190>"
      ]
     },
     "metadata": {},
     "output_type": "display_data"
    }
   ],
   "source": [
    "n_iter=1500\n",
    "perplexity=100\n",
    "\n",
    "tsne = TSNE(perplexity=perplexity, n_components=2, init='pca', n_iter=n_iter)\n",
    "source_only_tsne = tsne.fit_transform(combined_test_data)\n",
    "plot_embedding(source_only_tsne, \n",
    "               combined_test_labels, \n",
    "               combined_test_domain.argmax(1), \n",
    "               'RAW data')\n",
    "\n",
    "tsne = TSNE(perplexity=perplexity, n_components=2, init='pca', n_iter=n_iter)\n",
    "source_only_tsne = tsne.fit_transform(source_only_emb)\n",
    "plot_embedding(source_only_tsne, \n",
    "               combined_test_labels, \n",
    "               combined_test_domain.argmax(1), \n",
    "               'Source only')\n",
    "\n",
    "tsne = TSNE(perplexity=perplexity, n_components=2, init='pca', n_iter=n_iter)\n",
    "target_only_tsne = tsne.fit_transform(target_only_emb)\n",
    "plot_embedding(target_only_tsne, \n",
    "               combined_test_labels, \n",
    "               combined_test_domain.argmax(1), \n",
    "               'Target only')\n",
    "\n",
    "tsne = TSNE(perplexity=perplexity, n_components=2, init='pca', n_iter=n_iter)\n",
    "dann_tsne = tsne.fit_transform(dann_emb)\n",
    "plot_embedding(dann_tsne, \n",
    "               combined_test_labels,\n",
    "               combined_test_domain.argmax(1),\n",
    "               'Domain Adaptation')"
   ]
  },
  {
   "cell_type": "code",
   "execution_count": null,
   "metadata": {},
   "outputs": [],
   "source": []
  },
  {
   "cell_type": "code",
   "execution_count": null,
   "metadata": {},
   "outputs": [],
   "source": []
  }
 ],
 "metadata": {
  "kernelspec": {
   "display_name": "Python 2",
   "language": "python",
   "name": "python2"
  },
  "language_info": {
   "codemirror_mode": {
    "name": "ipython",
    "version": 2
   },
   "file_extension": ".py",
   "mimetype": "text/x-python",
   "name": "python",
   "nbconvert_exporter": "python",
   "pygments_lexer": "ipython2",
   "version": "2.7.12"
  }
 },
 "nbformat": 4,
 "nbformat_minor": 2
}
